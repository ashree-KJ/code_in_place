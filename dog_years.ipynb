{
 "cells": [
  {
   "cell_type": "code",
   "execution_count": 2,
   "id": "628fff97",
   "metadata": {},
   "outputs": [
    {
     "name": "stdout",
     "output_type": "stream",
     "text": [
      "That's  718.0 in dog  years\n"
     ]
    }
   ],
   "source": [
    "#Write a program which asks a user to input an age in human years, and converts it to the equivalent age in dog years.\n",
    "\n",
    "#Dogs have different lifespans than humans. Thus there age is sometimes reported in \"dog years\" \n",
    "# which are scaled to be comparable to human ages. On average every calendar year is equal to 7.18 dog years. \n",
    "# To convert 3 calendar years to dog years, you multiply 3 * 7.18 to get 21.54 dog years. \n",
    "# That means, if your dog is 3 years old, they're past their teenage years!\n",
    "#Your program will take in an age in calendar years, multiply that age by 7.18 and report the resulting dog years. \n",
    "\n",
    "DOG_YEARS = 7.18\n",
    "user_input = int(input(\"Enter an age in Calender years: \"))\n",
    "dog_year = user_input * DOG_YEARS\n",
    "print (\"That's \",dog_year,\"in dog  years\")"
   ]
  }
 ],
 "metadata": {
  "kernelspec": {
   "display_name": ".venv",
   "language": "python",
   "name": "python3"
  },
  "language_info": {
   "codemirror_mode": {
    "name": "ipython",
    "version": 3
   },
   "file_extension": ".py",
   "mimetype": "text/x-python",
   "name": "python",
   "nbconvert_exporter": "python",
   "pygments_lexer": "ipython3",
   "version": "3.11.9"
  }
 },
 "nbformat": 4,
 "nbformat_minor": 5
}
