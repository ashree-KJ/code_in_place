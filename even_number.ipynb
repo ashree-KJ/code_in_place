{
 "cells": [
  {
   "cell_type": "code",
   "execution_count": 11,
   "id": "6386c0cd",
   "metadata": {},
   "outputs": [
    {
     "name": "stdout",
     "output_type": "stream",
     "text": [
      "2\n",
      "4\n",
      "6\n",
      "8\n",
      "10\n",
      "12\n",
      "14\n",
      "16\n",
      "18\n",
      "20\n",
      "22\n",
      "24\n",
      "26\n",
      "28\n",
      "30\n",
      "32\n",
      "34\n",
      "36\n",
      "38\n",
      "40\n"
     ]
    }
   ],
   "source": [
    "# Write a program that prints the first 20 even numbers.\n",
    "# There are several correct approaches, but they all use a loop of some sort. \n",
    "# Do no write twenty print statements \n",
    "\n",
    "for i in range(2 , 41 , 2):\n",
    "    print(i)"
   ]
  },
  {
   "cell_type": "code",
   "execution_count": null,
   "id": "e1dd3e9d",
   "metadata": {},
   "outputs": [
    {
     "name": "stdout",
     "output_type": "stream",
     "text": [
      "[2, 4, 6, 8, 10, 12, 14, 16, 18, 20, 22, 24, 26, 28, 30, 32, 34, 36, 38, 40]\n"
     ]
    }
   ],
   "source": [
    "# printing Even number\n",
    "# Using list comprehension\n",
    "\n",
    "natural_number = [1, 2, 3, 4, 5, 6, 7, 8, 9, 10,\n",
    "11, 12, 13, 14, 15, 16, 17, 18, 19, 20,\n",
    "21, 22, 23, 24, 25, 26, 27, 28, 29, 30,\n",
    "31, 32, 33, 34, 35, 36, 37, 38, 39, 40]\n",
    "\n",
    "even_number = [x for x in natural_number if x % 2 == 0]\n",
    "print(even_number)\n",
    "\n",
    "\n"
   ]
  }
 ],
 "metadata": {
  "kernelspec": {
   "display_name": ".venv",
   "language": "python",
   "name": "python3"
  },
  "language_info": {
   "codemirror_mode": {
    "name": "ipython",
    "version": 3
   },
   "file_extension": ".py",
   "mimetype": "text/x-python",
   "name": "python",
   "nbconvert_exporter": "python",
   "pygments_lexer": "ipython3",
   "version": "3.11.9"
  }
 },
 "nbformat": 4,
 "nbformat_minor": 5
}
