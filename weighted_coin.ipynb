{
 "cells": [
  {
   "cell_type": "code",
   "execution_count": 8,
   "id": "c3a58d26",
   "metadata": {},
   "outputs": [
    {
     "name": "stdout",
     "output_type": "stream",
     "text": [
      "Heads\n"
     ]
    }
   ],
   "source": [
    "# Write a program which will flip a weighted coin.\n",
    "\n",
    "#Coin flips are usually fair, but can be cheated -- a weighted coin is a coin where the probability of heads isn't 50%.\n",
    "#  \n",
    "#Your code should use the random module to \"flip\" coin where the probability of heads is 70% and print the outcome (heads or tails).\n",
    "\n",
    "import random\n",
    "\n",
    "def main():\n",
    "    def weighted_coin_flip():\n",
    "        if random.random() < 0.7:\n",
    "            print(\"Heads\")\n",
    "        else:\n",
    "            print(\"Tails\")\n",
    "    weighted_coin_flip()\n",
    "\n",
    "if __name__ == '__main__':\n",
    "    main()\n",
    "\n",
    "\n",
    "    \n",
    "\n"
   ]
  }
 ],
 "metadata": {
  "kernelspec": {
   "display_name": ".venv",
   "language": "python",
   "name": "python3"
  },
  "language_info": {
   "codemirror_mode": {
    "name": "ipython",
    "version": 3
   },
   "file_extension": ".py",
   "mimetype": "text/x-python",
   "name": "python",
   "nbconvert_exporter": "python",
   "pygments_lexer": "ipython3",
   "version": "3.11.9"
  }
 },
 "nbformat": 4,
 "nbformat_minor": 5
}
