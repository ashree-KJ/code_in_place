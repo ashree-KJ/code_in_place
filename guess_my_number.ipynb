{
 "cells": [
  {
   "cell_type": "code",
   "execution_count": 6,
   "id": "4f65da27",
   "metadata": {},
   "outputs": [
    {
     "name": "stdout",
     "output_type": "stream",
     "text": [
      "Guess a number between 1 and 100....\n",
      "Guess number is less than secret number\n",
      "Guess number is less than secret number\n",
      "Guess number is less than secret number\n",
      "Guess number is less than secret number\n",
      "Guess number is more than secret number\n",
      "Guess number is more than secret number\n",
      "Guess number is more than secret number\n",
      "Guess number is more than secret number\n",
      "Guess number is more than secret number\n",
      "Guess number is more than secret number\n",
      "Guess number is less than secret number\n",
      "Congratulation Your Guess is right:\n"
     ]
    }
   ],
   "source": [
    "# Number guessing game\n",
    "\n",
    "import random\n",
    "\n",
    "def main():\n",
    "\n",
    "    \n",
    "    print(\"Guess a number between 1 and 100....\")\n",
    "\n",
    "    secret_number = random.randint(1,100)\n",
    "\n",
    "    guess_number = int(input(\"Guess a number : \"))\n",
    "\n",
    "    while guess_number != secret_number:\n",
    "\n",
    "        if guess_number < secret_number:\n",
    "\n",
    "            print(\"Guess number is less than secret number\")\n",
    "\n",
    "        else:\n",
    "\n",
    "            print(\"Guess number is more than secret number\")\n",
    "\n",
    "        guess_number = int(input(\"Guess a number : \"))\n",
    "    \n",
    "    print(\"Congratulation Your Guess is right:\")\n",
    "\n",
    "if __name__=='__main__':\n",
    "    main()\n"
   ]
  }
 ],
 "metadata": {
  "kernelspec": {
   "display_name": ".venv",
   "language": "python",
   "name": "python3"
  },
  "language_info": {
   "codemirror_mode": {
    "name": "ipython",
    "version": 3
   },
   "file_extension": ".py",
   "mimetype": "text/x-python",
   "name": "python",
   "nbconvert_exporter": "python",
   "pygments_lexer": "ipython3",
   "version": "3.11.9"
  }
 },
 "nbformat": 4,
 "nbformat_minor": 5
}
