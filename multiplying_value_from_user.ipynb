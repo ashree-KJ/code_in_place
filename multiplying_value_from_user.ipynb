{
 "cells": [
  {
   "cell_type": "code",
   "execution_count": 2,
   "id": "76a59c13",
   "metadata": {},
   "outputs": [
    {
     "name": "stdout",
     "output_type": "stream",
     "text": [
      "Answer: 144\n"
     ]
    }
   ],
   "source": [
    "#Write a Python program that takes two integer inputs from the user and \n",
    "\n",
    "# calculates the value of the first number multiplied with the second. The program should perform the following tasks:\n",
    "\n",
    "\n",
    "\n",
    "#After printing \"This program multiplies two numbers.\"\n",
    "\n",
    "#1. Prompt the user to enter the first number.\n",
    "\n",
    "#2. Read the input and convert it to an integer.\n",
    "\n",
    "#3. Prompt the user to enter the second number.\n",
    "\n",
    "#4. Read the input and convert it to an integer.\n",
    "\n",
    "#5. Calculate the value of multiplying the two numbers.\n",
    "\n",
    "#6. Print the value\n",
    "\n",
    "num1 = input(\"Enter a First_Number:\")\n",
    "convert_f = int(num1)\n",
    "num2 = input(\"Enter a Second_Number:\")\n",
    "convert_s = int(num2)\n",
    "multiplying = convert_f * convert_s\n",
    "print (\"Answer:\", multiplying)"
   ]
  }
 ],
 "metadata": {
  "kernelspec": {
   "display_name": ".venv",
   "language": "python",
   "name": "python3"
  },
  "language_info": {
   "codemirror_mode": {
    "name": "ipython",
    "version": 3
   },
   "file_extension": ".py",
   "mimetype": "text/x-python",
   "name": "python",
   "nbconvert_exporter": "python",
   "pygments_lexer": "ipython3",
   "version": "3.11.9"
  }
 },
 "nbformat": 4,
 "nbformat_minor": 5
}
